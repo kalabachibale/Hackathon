{
 "cells": [
  {
   "cell_type": "markdown",
   "metadata": {
    "colab_type": "text",
    "deletable": false,
    "editable": false,
    "id": "BfDN84IUiPoR",
    "nbgrader": {
     "checksum": "f4ed99e49ef13de8072a386ae0e25942",
     "grade": false,
     "grade_id": "cell-efb957419114b136",
     "locked": true,
     "schema_version": 1,
     "solution": false
    }
   },
   "source": [
    "# Hackathon day 1"
   ]
  },
  {
   "cell_type": "markdown",
   "metadata": {
    "colab_type": "text",
    "deletable": false,
    "editable": false,
    "id": "SGU_E0Tj_a8z",
    "nbgrader": {
     "checksum": "b542fef8918dc83fa7e115d16b2f96fe",
     "grade": false,
     "grade_id": "cell-0a078358636ae75e",
     "locked": true,
     "schema_version": 1,
     "solution": false
    }
   },
   "source": [
    "### Please do not add or remove any cells from this notebook, if you would like to experiment with code please do so in another notebook. Failure to abide by this will result in your mark being lowered by the autograder!"
   ]
  },
  {
   "cell_type": "markdown",
   "metadata": {
    "colab_type": "text",
    "deletable": false,
    "editable": false,
    "id": "GZhRg6nEiVI_",
    "nbgrader": {
     "checksum": "e7ba234f724f2eec8e2efc12d329ec39",
     "grade": false,
     "grade_id": "cell-a4a307b7932e13ca",
     "locked": true,
     "schema_version": 1,
     "solution": false
    }
   },
   "source": [
    "This project includes a bunch of fun problems to solve using your new and improved python skills."
   ]
  },
  {
   "cell_type": "markdown",
   "metadata": {
    "colab_type": "text",
    "deletable": false,
    "editable": false,
    "id": "ZVKGESsKin_3",
    "nbgrader": {
     "checksum": "86dc42e9c8fa720320ac6e7272ac800b",
     "grade": false,
     "grade_id": "cell-9b0368db69fe50c3",
     "locked": true,
     "schema_version": 1,
     "solution": false
    }
   },
   "source": [
    "Alot of these questions invlove some maths knowledge and if you find the maths a bit out of your comfort ask your facilitator to give you a hand with the maths behind it. \n",
    "Your job is to write the code!"
   ]
  },
  {
   "cell_type": "markdown",
   "metadata": {
    "colab_type": "text",
    "deletable": false,
    "editable": false,
    "id": "NUwGmS6Gi_Bx",
    "nbgrader": {
     "checksum": "eedaca96d7283133f6adbba46fdb0f5e",
     "grade": false,
     "grade_id": "cell-43d8e42042a45ca1",
     "locked": true,
     "schema_version": 1,
     "solution": false
    }
   },
   "source": [
    "Good luck!! :)"
   ]
  },
  {
   "cell_type": "markdown",
   "metadata": {
    "colab_type": "text",
    "deletable": false,
    "editable": false,
    "id": "EFQQDii4jM8A",
    "nbgrader": {
     "checksum": "4249b9ea53bc6c4b227c58ce998a7f8f",
     "grade": false,
     "grade_id": "cell-4beb88ac7dacb19f",
     "locked": true,
     "schema_version": 1,
     "solution": false
    }
   },
   "source": [
    "## Question 1:"
   ]
  },
  {
   "cell_type": "markdown",
   "metadata": {
    "colab_type": "text",
    "deletable": false,
    "editable": false,
    "id": "-izkb7MijM8C",
    "nbgrader": {
     "checksum": "ab81a99fde29d3a098ba5a0c32d0c16d",
     "grade": false,
     "grade_id": "cell-eb9d00c740c86171",
     "locked": true,
     "schema_version": 1,
     "solution": false
    }
   },
   "source": [
    "## Leap year "
   ]
  },
  {
   "cell_type": "markdown",
   "metadata": {
    "colab_type": "text",
    "deletable": false,
    "editable": false,
    "id": "DLDqf4fQjM8C",
    "nbgrader": {
     "checksum": "1ef51d322c2edc609c14ebb8526619a0",
     "grade": false,
     "grade_id": "cell-7f5652054d5fcfc8",
     "locked": true,
     "schema_version": 1,
     "solution": false
    }
   },
   "source": [
    "Write a function that takes a year and determines if it was a leap year."
   ]
  },
  {
   "cell_type": "markdown",
   "metadata": {
    "colab_type": "text",
    "deletable": false,
    "editable": false,
    "id": "vIqPS6GijM8D",
    "nbgrader": {
     "checksum": "985f019e364a4523682317f271038867",
     "grade": false,
     "grade_id": "cell-bde8dd5fb49ed7b4",
     "locked": true,
     "schema_version": 1,
     "solution": false
    }
   },
   "source": [
    "A year is a leap year if it is\n",
    "\n",
    "\n",
    "*   Divisible by 400 **OR**\n",
    "*   Divisible by 4 BUT not 100\n",
    "\n"
   ]
  },
  {
   "cell_type": "markdown",
   "metadata": {
    "colab_type": "text",
    "deletable": false,
    "editable": false,
    "id": "VUAl75f_lqVI",
    "nbgrader": {
     "checksum": "21705d988e6e2cfa3aadf25a8b6137e8",
     "grade": false,
     "grade_id": "cell-4a42bcb794fe9139",
     "locked": true,
     "schema_version": 1,
     "solution": false
    }
   },
   "source": [
    "The function should return the year followed by either 'was a leap year' or 'was not a leap year' \\\n",
    "e.g leap_year(2008) returns '2008 was a leap year'"
   ]
  },
  {
   "cell_type": "code",
   "execution_count": null,
   "metadata": {
    "colab": {
     "autoexec": {
      "startup": false,
      "wait_interval": 0
     }
    },
    "colab_type": "code",
    "deletable": false,
    "id": "kNKeTcwrjM8F",
    "nbgrader": {
     "checksum": "76fc4f5aed8bc992146d67d3131e7b2b",
     "grade": false,
     "grade_id": "cell-ba05791c1f6f85bc",
     "locked": false,
     "schema_version": 1,
     "solution": true
    }
   },
   "outputs": [],
   "source": [
    "### START FUNCTION 1\n",
    "\n",
    "def leap_year(year):\n",
    "    if year % 400 == 0 or year % 4 == 0: \n",
    "    # YOUR CODE HERE\n",
    "        return 'was a leap year' + str(year)\n",
    "    else:\n",
    "        return 'was not a leap year' + str(year)\n",
    "        #raise NotImplementedError()\n",
    "    #return decision\n",
    "\n",
    "### END FUNCTION 1"
   ]
  },
  {
   "cell_type": "code",
   "execution_count": null,
   "metadata": {
    "colab": {
     "autoexec": {
      "startup": false,
      "wait_interval": 0
     },
     "base_uri": "https://localhost:8080/",
     "height": 34
    },
    "colab_type": "code",
    "deletable": false,
    "editable": false,
    "executionInfo": {
     "elapsed": 983,
     "status": "ok",
     "timestamp": 1524213448494,
     "user": {
      "displayName": "Jordan Alan Haskel",
      "photoUrl": "https://lh3.googleusercontent.com/a/default-user=s128",
      "userId": "107965033734524396897"
     },
     "user_tz": -120
    },
    "id": "oilIY4WnnRwh",
    "nbgrader": {
     "checksum": "e5d9fde9fd050fe7057c9ef3e231014f",
     "grade": false,
     "grade_id": "cell-3f6507eaf5e0f5f5",
     "locked": true,
     "schema_version": 1,
     "solution": false
    },
    "outputId": "73077ae2-39c4-4007-d814-f32012a9f58f"
   },
   "outputs": [],
   "source": [
    "leap_year(2008)"
   ]
  },
  {
   "cell_type": "markdown",
   "metadata": {
    "deletable": false,
    "editable": false,
    "nbgrader": {
     "checksum": "d4a6d50be2c5886d016ba89c070c2b2d",
     "grade": false,
     "grade_id": "cell-c016092004a8a032",
     "locked": true,
     "schema_version": 1,
     "solution": false
    }
   },
   "source": [
    "'2008 was a leap year'"
   ]
  },
  {
   "cell_type": "code",
   "execution_count": null,
   "metadata": {
    "colab": {
     "autoexec": {
      "startup": false,
      "wait_interval": 0
     }
    },
    "colab_type": "code",
    "deletable": false,
    "editable": false,
    "id": "1kkxHMgZ6t4T",
    "nbgrader": {
     "checksum": "c60d74653490e49dbb7e26b3d05a69c8",
     "grade": true,
     "grade_id": "cell-8be1896441254c55",
     "locked": true,
     "points": 1,
     "schema_version": 1,
     "solution": false
    }
   },
   "outputs": [],
   "source": [
    "leap_year(2009)"
   ]
  },
  {
   "cell_type": "markdown",
   "metadata": {
    "deletable": false,
    "editable": false,
    "nbgrader": {
     "checksum": "4bb57acf71900a1608713569bb011334",
     "grade": false,
     "grade_id": "cell-ae4a9d0faac692eb",
     "locked": true,
     "schema_version": 1,
     "solution": false
    }
   },
   "source": [
    "'2009 was not a leap year'"
   ]
  },
  {
   "cell_type": "markdown",
   "metadata": {
    "colab_type": "text",
    "deletable": false,
    "editable": false,
    "id": "IYE0vT4QzGGt",
    "nbgrader": {
     "checksum": "946774dafeb2212dc54ec0198cbc9dee",
     "grade": false,
     "grade_id": "cell-7cf29f0bcb94e300",
     "locked": true,
     "schema_version": 1,
     "solution": false
    }
   },
   "source": [
    "## Question 2:"
   ]
  },
  {
   "cell_type": "markdown",
   "metadata": {
    "colab_type": "text",
    "deletable": false,
    "editable": false,
    "id": "c70bnKBFzGGv",
    "nbgrader": {
     "checksum": "9c5403963263348fa1e2cd5076f6308b",
     "grade": false,
     "grade_id": "cell-d3750f12f69a1884",
     "locked": true,
     "schema_version": 1,
     "solution": false
    }
   },
   "source": [
    "## Word finder"
   ]
  },
  {
   "cell_type": "markdown",
   "metadata": {
    "colab_type": "text",
    "deletable": false,
    "editable": false,
    "id": "VHQee4EFzGGv",
    "nbgrader": {
     "checksum": "f9496a0c5c1bce94d966377edcbc7854",
     "grade": false,
     "grade_id": "cell-7e71a357823ad42c",
     "locked": true,
     "schema_version": 1,
     "solution": false
    }
   },
   "source": [
    "Write a function that takes a python list of strings and returns either the longest or the shortest word in the list depending on whether you pass the function the parameter 'long' or 'short'."
   ]
  },
  {
   "cell_type": "markdown",
   "metadata": {
    "colab_type": "text",
    "deletable": false,
    "editable": false,
    "id": "AkYjvbzhzGGw",
    "nbgrader": {
     "checksum": "12189dc9cb306d014e8db8fd32ca3759",
     "grade": false,
     "grade_id": "cell-e63a8c85c2d1803e",
     "locked": true,
     "schema_version": 1,
     "solution": false
    }
   },
   "source": [
    "e.g word_list = ['apple','orange','pie','spaghetti'] \\\n",
    "word_finder(word_list, long) \\\n",
    "Output: 'spaghetti' \\\n",
    "\n",
    "word_finder(word_list, short) \\\n",
    "Output: 'pie'\n"
   ]
  },
  {
   "cell_type": "code",
   "execution_count": null,
   "metadata": {
    "colab": {
     "autoexec": {
      "startup": false,
      "wait_interval": 0
     }
    },
    "colab_type": "code",
    "deletable": false,
    "id": "313dwFprzGGx",
    "nbgrader": {
     "checksum": "ba2591efe08eb896fafc6636bc391693",
     "grade": false,
     "grade_id": "cell-2006083ce18f7d69",
     "locked": false,
     "schema_version": 1,
     "solution": true
    }
   },
   "outputs": [],
   "source": [
    "### START FUNCTION 2\n",
    "\n",
    "def word_finder(word_list, long_short): \n",
    "  # YOUR CODE HERE\n",
    "    longest_word = ''\n",
    "    while len(long_short) > len(longest_word):\n",
    "          longest_word = long_short\n",
    "    return longest_word                        \n",
    "  #raise NotImplementedError()\n",
    "\n",
    "  #return word_found\n",
    "\n",
    "### END FUNCTION 2"
   ]
  },
  {
   "cell_type": "code",
   "execution_count": null,
   "metadata": {
    "colab": {
     "autoexec": {
      "startup": false,
      "wait_interval": 0
     }
    },
    "colab_type": "code",
    "deletable": false,
    "editable": false,
    "id": "OCxE-wsUzGG0",
    "nbgrader": {
     "checksum": "dde3b1a85163a7d6e07fde98cf969349",
     "grade": false,
     "grade_id": "cell-db4387d9ccf704d2",
     "locked": true,
     "schema_version": 1,
     "solution": false
    }
   },
   "outputs": [],
   "source": [
    "word_list =  ['apple','orange','pie','spaghetti']"
   ]
  },
  {
   "cell_type": "code",
   "execution_count": null,
   "metadata": {
    "colab": {
     "autoexec": {
      "startup": false,
      "wait_interval": 0
     },
     "base_uri": "https://localhost:8080/",
     "height": 34
    },
    "colab_type": "code",
    "deletable": false,
    "editable": false,
    "executionInfo": {
     "elapsed": 992,
     "status": "ok",
     "timestamp": 1524209054753,
     "user": {
      "displayName": "Jordan Alan Haskel",
      "photoUrl": "https://lh3.googleusercontent.com/a/default-user=s128",
      "userId": "107965033734524396897"
     },
     "user_tz": -120
    },
    "id": "oEZ4sh9MzGG5",
    "nbgrader": {
     "checksum": "51ab5c08921b8befbd6916181c6e6730",
     "grade": false,
     "grade_id": "cell-eb022c88b8afb307",
     "locked": true,
     "schema_version": 1,
     "solution": false
    },
    "outputId": "211a4bb6-e4c4-4159-ddac-2098166ff4ee"
   },
   "outputs": [],
   "source": [
    "word_finder(word_list, 'long')"
   ]
  },
  {
   "cell_type": "markdown",
   "metadata": {
    "deletable": false,
    "editable": false,
    "nbgrader": {
     "checksum": "fa997a3c75fbb590c79ce7a0fed06f49",
     "grade": false,
     "grade_id": "cell-5914781065548193",
     "locked": true,
     "schema_version": 1,
     "solution": false
    }
   },
   "source": [
    "'spaghetti'"
   ]
  },
  {
   "cell_type": "code",
   "execution_count": null,
   "metadata": {
    "colab": {
     "autoexec": {
      "startup": false,
      "wait_interval": 0
     }
    },
    "colab_type": "code",
    "deletable": false,
    "editable": false,
    "id": "uz9fehv77s0a",
    "nbgrader": {
     "checksum": "99a9cb6b7756327a5435f72f6030becf",
     "grade": true,
     "grade_id": "cell-b688efa02ef56925",
     "locked": true,
     "points": 1,
     "schema_version": 1,
     "solution": false
    }
   },
   "outputs": [],
   "source": [
    "word_finder(word_list, 'short')"
   ]
  },
  {
   "cell_type": "markdown",
   "metadata": {
    "deletable": false,
    "editable": false,
    "nbgrader": {
     "checksum": "939469b119d685e7fa25695630e632ea",
     "grade": false,
     "grade_id": "cell-8d54976828d86c5b",
     "locked": true,
     "schema_version": 1,
     "solution": false
    }
   },
   "source": [
    "'pie'"
   ]
  },
  {
   "cell_type": "markdown",
   "metadata": {
    "colab_type": "text",
    "deletable": false,
    "editable": false,
    "id": "rvdcR0ujjEXY",
    "nbgrader": {
     "checksum": "9b541ba124319ee784c4a45464be8cfb",
     "grade": false,
     "grade_id": "cell-93276f0138229424",
     "locked": true,
     "schema_version": 1,
     "solution": false
    }
   },
   "source": [
    "## Question 3:"
   ]
  },
  {
   "cell_type": "markdown",
   "metadata": {
    "colab_type": "text",
    "deletable": false,
    "editable": false,
    "id": "5Mw4lyEBjHA3",
    "nbgrader": {
     "checksum": "f1f695267ed69fcf9f0e63f4b4cf2ee7",
     "grade": false,
     "grade_id": "cell-7e2055c69924cb1b",
     "locked": true,
     "schema_version": 1,
     "solution": false
    }
   },
   "source": [
    "## Prime numbers"
   ]
  },
  {
   "cell_type": "markdown",
   "metadata": {
    "colab_type": "text",
    "deletable": false,
    "editable": false,
    "id": "H_RcUOqFj3ww",
    "nbgrader": {
     "checksum": "bc56573bca1005adbe3c329283b8ec5f",
     "grade": false,
     "grade_id": "cell-6b97cc17240727d1",
     "locked": true,
     "schema_version": 1,
     "solution": false
    }
   },
   "source": [
    "Write a function that takes an integer and returns whether it is a prime number or not. \\\n",
    "The function should return 'prime' if it is a prime number and 'not prime' if it is not a prime number."
   ]
  },
  {
   "cell_type": "markdown",
   "metadata": {
    "colab_type": "text",
    "deletable": false,
    "editable": false,
    "id": "ny2mmNaUFEVu",
    "nbgrader": {
     "checksum": "738d8c05e4e1e5562e6451cd2547c3b4",
     "grade": false,
     "grade_id": "cell-fd464c23c224ff1f",
     "locked": true,
     "schema_version": 1,
     "solution": false
    }
   },
   "source": [
    "**Note: 1 is not a prime number!!**"
   ]
  },
  {
   "cell_type": "markdown",
   "metadata": {
    "colab_type": "text",
    "deletable": false,
    "editable": false,
    "id": "N6hYT0FwDE-c",
    "nbgrader": {
     "checksum": "b9f55a7f19083acea0cbfa2e94326c45",
     "grade": false,
     "grade_id": "cell-6849d0a713f3f53f",
     "locked": true,
     "schema_version": 1,
     "solution": false
    }
   },
   "source": [
    "**Please make sure that your outputs are the correct spelling and case as described in the question.**"
   ]
  },
  {
   "cell_type": "code",
   "execution_count": null,
   "metadata": {
    "colab": {
     "autoexec": {
      "startup": false,
      "wait_interval": 0
     }
    },
    "colab_type": "code",
    "deletable": false,
    "id": "JnRaG24Flr93",
    "nbgrader": {
     "checksum": "899bb4d2e4ee4ff2e45f0d1f45ac943b",
     "grade": false,
     "grade_id": "cell-bc59957f17c83310",
     "locked": false,
     "schema_version": 1,
     "solution": true
    }
   },
   "outputs": [],
   "source": [
    "### START FUNCTION 3\n",
    "\n",
    "def is_prime(number):\n",
    "    i = 0 \n",
    "#while i < 101:\n",
    "    if i % 2 == 0: \n",
    "        return 'prime' + str(number)\n",
    "    else:\n",
    "        return 'not prime' + str(number)\n",
    "    # YOUR CODE HERE\n",
    "    raise NotImplementedError()\n",
    "\n",
    "    return answer\n",
    "\n",
    "### END FUNCTION 3"
   ]
  },
  {
   "cell_type": "code",
   "execution_count": null,
   "metadata": {
    "colab": {
     "autoexec": {
      "startup": false,
      "wait_interval": 0
     },
     "base_uri": "https://localhost:8080/",
     "height": 34
    },
    "colab_type": "code",
    "deletable": false,
    "editable": false,
    "executionInfo": {
     "elapsed": 1215,
     "status": "ok",
     "timestamp": 1524213472640,
     "user": {
      "displayName": "Jordan Alan Haskel",
      "photoUrl": "https://lh3.googleusercontent.com/a/default-user=s128",
      "userId": "107965033734524396897"
     },
     "user_tz": -120
    },
    "id": "-288oz4EEeQk",
    "nbgrader": {
     "checksum": "6784051641658783fc0b32e979403cc6",
     "grade": false,
     "grade_id": "cell-574452525274a1f0",
     "locked": true,
     "schema_version": 1,
     "solution": false
    },
    "outputId": "360f9ef1-46ea-4dcf-ff0a-724c5a5c0502"
   },
   "outputs": [],
   "source": [
    "is_prime(13)"
   ]
  },
  {
   "cell_type": "markdown",
   "metadata": {
    "deletable": false,
    "editable": false,
    "nbgrader": {
     "checksum": "52d74171ac550434ebd7e53484bd9393",
     "grade": false,
     "grade_id": "cell-8656cfa35a645ff9",
     "locked": true,
     "schema_version": 1,
     "solution": false
    }
   },
   "source": [
    "'prime'"
   ]
  },
  {
   "cell_type": "code",
   "execution_count": null,
   "metadata": {
    "colab": {
     "autoexec": {
      "startup": false,
      "wait_interval": 0
     }
    },
    "colab_type": "code",
    "deletable": false,
    "editable": false,
    "id": "N_3_5p6A8k_a",
    "nbgrader": {
     "checksum": "6d8c8668c0f0cb9ca88605ee53d62646",
     "grade": true,
     "grade_id": "cell-e644daaa64850c76",
     "locked": true,
     "points": 2,
     "schema_version": 1,
     "solution": false
    }
   },
   "outputs": [],
   "source": [
    "is_prime(9)"
   ]
  },
  {
   "cell_type": "markdown",
   "metadata": {
    "deletable": false,
    "editable": false,
    "nbgrader": {
     "checksum": "9eaa00414909ddf926bdfc9867c8e075",
     "grade": false,
     "grade_id": "cell-e357b249dbd2b216",
     "locked": true,
     "schema_version": 1,
     "solution": false
    }
   },
   "source": [
    "'not prime'"
   ]
  },
  {
   "cell_type": "markdown",
   "metadata": {
    "colab_type": "text",
    "deletable": false,
    "editable": false,
    "id": "vnKH1-ltFPz6",
    "nbgrader": {
     "checksum": "5048daed59191b131126d718578792ae",
     "grade": false,
     "grade_id": "cell-44d2867d0fbbfb71",
     "locked": true,
     "schema_version": 1,
     "solution": false
    }
   },
   "source": [
    "## Question 4:"
   ]
  },
  {
   "cell_type": "markdown",
   "metadata": {
    "colab_type": "text",
    "deletable": false,
    "editable": false,
    "id": "5K7V3oiPFPz9",
    "nbgrader": {
     "checksum": "d3992370332856b4c8e4cfa47db91901",
     "grade": false,
     "grade_id": "cell-5aa85ce8157594a5",
     "locked": true,
     "schema_version": 1,
     "solution": false
    }
   },
   "source": [
    "## Prime palindromes"
   ]
  },
  {
   "cell_type": "markdown",
   "metadata": {
    "colab_type": "text",
    "deletable": false,
    "editable": false,
    "id": "g_qQB__xFPz-",
    "nbgrader": {
     "checksum": "01af6405c2457c2e43bea76533d78142",
     "grade": false,
     "grade_id": "cell-9e918e3df96f026e",
     "locked": true,
     "schema_version": 1,
     "solution": false
    }
   },
   "source": [
    "This questions hould build on from the prime numbers question, so make sure you attempt question one before moving onto this question. \\\n",
    "This question requires you to write a function that will take all the prime numbers from 2 up to a entered number and find all the prime numbers that are also palindromes. (A palindrome is a number which is the same when read form left to right as well as from right to left e.g 363 or 171)"
   ]
  },
  {
   "cell_type": "markdown",
   "metadata": {
    "colab_type": "text",
    "deletable": false,
    "editable": false,
    "id": "-27Ux019FP0A",
    "nbgrader": {
     "checksum": "cef1e99f69a9e120188fc8296a5b4d60",
     "grade": false,
     "grade_id": "cell-2868f0afc5445257",
     "locked": true,
     "schema_version": 1,
     "solution": false
    }
   },
   "source": [
    "**Note: 1 is not a prime number!!**"
   ]
  },
  {
   "cell_type": "markdown",
   "metadata": {
    "colab_type": "text",
    "deletable": false,
    "editable": false,
    "id": "N9owB6UCFP0B",
    "nbgrader": {
     "checksum": "709bcf45c5c77328b1d660f5dbcd6d79",
     "grade": false,
     "grade_id": "cell-214b998e491d0c45",
     "locked": true,
     "schema_version": 1,
     "solution": false
    }
   },
   "source": [
    "**Please make sure that your function is returning a list of these values.** \n",
    "**Make sure the list is in ascending order**"
   ]
  },
  {
   "cell_type": "code",
   "execution_count": null,
   "metadata": {
    "colab": {
     "autoexec": {
      "startup": false,
      "wait_interval": 0
     }
    },
    "colab_type": "code",
    "deletable": false,
    "id": "ElNdvUD1FP0C",
    "nbgrader": {
     "checksum": "af4533c1b6f8e06e2f96b34c9ba8e983",
     "grade": false,
     "grade_id": "cell-3211c995c447551e",
     "locked": false,
     "schema_version": 1,
     "solution": true
    }
   },
   "outputs": [],
   "source": [
    "### START FUNCTION 4\n",
    "\n",
    "def prime_palindromes(number):\n",
    "    number_list = []\n",
    "    for i in range(10**(number-1), 10**number):\n",
    "            #number_list = number_list.append(i)\n",
    "       # elif i % 2 == 0 or i % 3 == 0:\n",
    "            return True \n",
    "    #number_list = number_list.append(i)       \n",
    "    # YOUR CODE HERE\n",
    "     #raise NotImplementedError()\n",
    "\n",
    "    #return number_list\n",
    "\n",
    "### END FUNCTION 4"
   ]
  },
  {
   "cell_type": "code",
   "execution_count": null,
   "metadata": {
    "colab": {
     "autoexec": {
      "startup": false,
      "wait_interval": 0
     }
    },
    "colab_type": "code",
    "deletable": false,
    "editable": false,
    "id": "RVlMXGDjEPWt",
    "nbgrader": {
     "checksum": "35d4804eabf91b892e3d99df09c94854",
     "grade": true,
     "grade_id": "cell-4bb49cbd0ed2fd87",
     "locked": true,
     "points": 2,
     "schema_version": 1,
     "solution": false
    }
   },
   "outputs": [],
   "source": [
    "prime_palindromes(500)"
   ]
  },
  {
   "cell_type": "markdown",
   "metadata": {
    "deletable": false,
    "editable": false,
    "nbgrader": {
     "checksum": "fd5878381e911658c374cf95fa6ce970",
     "grade": false,
     "grade_id": "cell-eb783eae304c8fca",
     "locked": true,
     "schema_version": 1,
     "solution": false
    }
   },
   "source": [
    "[2, 3, 5, 7, 11, 101, 131, 151, 181, 191, 313, 353, 373, 383]"
   ]
  },
  {
   "cell_type": "markdown",
   "metadata": {
    "colab_type": "text",
    "deletable": false,
    "editable": false,
    "id": "vxBkbtHTuuF_",
    "nbgrader": {
     "checksum": "34fe8637304455b5d7b7b6bae4329002",
     "grade": false,
     "grade_id": "cell-a3df07104b6ca37a",
     "locked": true,
     "schema_version": 1,
     "solution": false
    }
   },
   "source": [
    "## Question 5:"
   ]
  },
  {
   "cell_type": "markdown",
   "metadata": {
    "colab_type": "text",
    "deletable": false,
    "editable": false,
    "id": "gQrET86OuuGA",
    "nbgrader": {
     "checksum": "78d80f60285db60a64d3d025d4d1486a",
     "grade": false,
     "grade_id": "cell-9d285591c1003afa",
     "locked": true,
     "schema_version": 1,
     "solution": false
    }
   },
   "source": [
    "### Secret Code"
   ]
  },
  {
   "cell_type": "markdown",
   "metadata": {
    "colab_type": "text",
    "deletable": false,
    "editable": false,
    "id": "Kh9O5LzDvU1F",
    "nbgrader": {
     "checksum": "6dd78ce66c7c18ce85b27a58672b93d3",
     "grade": false,
     "grade_id": "cell-882b7b44d679b0b0",
     "locked": true,
     "schema_version": 1,
     "solution": false
    }
   },
   "source": [
    "The following are instructions for converting a sentence to secret code:"
   ]
  },
  {
   "cell_type": "markdown",
   "metadata": {
    "colab_type": "text",
    "deletable": false,
    "editable": false,
    "id": "_kahYWwBuuGA",
    "nbgrader": {
     "checksum": "f0889b431a254dec648cb118b302060f",
     "grade": false,
     "grade_id": "cell-51dc2b77b7f60d2e",
     "locked": true,
     "schema_version": 1,
     "solution": false
    }
   },
   "source": [
    "Determine the message\n",
    "length and round up to the nearest multiple of 5.\n",
    "Write out the message in rows of 5 characters\n",
    "each until the message is complete. Send the\n",
    "message a column at a time from left to right. "
   ]
  },
  {
   "cell_type": "markdown",
   "metadata": {
    "colab_type": "text",
    "deletable": false,
    "editable": false,
    "id": "tqh2EtIWvUGN",
    "nbgrader": {
     "checksum": "8752da97929bff85883f5a151d63c91c",
     "grade": false,
     "grade_id": "cell-147a5254a67b0b18",
     "locked": true,
     "schema_version": 1,
     "solution": false
    }
   },
   "source": [
    "For example:"
   ]
  },
  {
   "cell_type": "markdown",
   "metadata": {
    "colab_type": "text",
    "deletable": false,
    "editable": false,
    "id": "xFXpPk-RuuGB",
    "nbgrader": {
     "checksum": "8ed9bfaa237b09f86640d5d52a745be9",
     "grade": false,
     "grade_id": "cell-b6e46de38f54bab0",
     "locked": true,
     "schema_version": 1,
     "solution": false
    }
   },
   "source": [
    " suppose the message is: THIS IS A\n",
    "CODED MESSAGE"
   ]
  },
  {
   "cell_type": "markdown",
   "metadata": {
    "colab_type": "text",
    "deletable": false,
    "editable": false,
    "id": "gLrGf-fPvxju",
    "nbgrader": {
     "checksum": "f9ae560098cc4bf12e9410853cd26ee0",
     "grade": false,
     "grade_id": "cell-815614b6b4a54da9",
     "locked": true,
     "schema_version": 1,
     "solution": false
    }
   },
   "source": [
    "As it is 23 characters long, add two spaces at the\n",
    "end to make the message 25 characters long. "
   ]
  },
  {
   "cell_type": "markdown",
   "metadata": {
    "colab_type": "text",
    "deletable": false,
    "editable": false,
    "id": "o9pWaVYEvzik",
    "nbgrader": {
     "checksum": "7f38dae34ba3a6183ed0bb3434be8337",
     "grade": false,
     "grade_id": "cell-2547c47611085270",
     "locked": true,
     "schema_version": 1,
     "solution": false
    }
   },
   "source": [
    "The rows of five characters are:"
   ]
  },
  {
   "cell_type": "markdown",
   "metadata": {
    "colab_type": "text",
    "deletable": false,
    "editable": false,
    "id": "-STrz_pMG4G_",
    "nbgrader": {
     "checksum": "1051e98a6bc91b1741a76a2ee3e6d168",
     "grade": false,
     "grade_id": "cell-34419b54b3a31430",
     "locked": true,
     "schema_version": 1,
     "solution": false
    }
   },
   "source": [
    "![alt text](https://github.com/jordanExplore/Explore_resources/blob/master/Hackathon.PNG?raw=true)"
   ]
  },
  {
   "cell_type": "markdown",
   "metadata": {
    "colab_type": "text",
    "deletable": false,
    "editable": false,
    "id": "GbjTfDBnyQRw",
    "nbgrader": {
     "checksum": "58830d4e5270223080151dbd1dcd94eb",
     "grade": false,
     "grade_id": "cell-028abaa17c9afce7",
     "locked": true,
     "schema_version": 1,
     "solution": false
    }
   },
   "source": [
    "the coded message is then created by taking the characters one column at a time\n",
    "from left to right. The encoded message therefore\n",
    "becomes:\n",
    "TIC.AHSOMGI.DEESAES...DS.  "
   ]
  },
  {
   "cell_type": "markdown",
   "metadata": {
    "colab_type": "text",
    "deletable": false,
    "editable": false,
    "id": "9qCQrYi3y3kJ",
    "nbgrader": {
     "checksum": "50d119453278d8c46d50230bee33b17d",
     "grade": false,
     "grade_id": "cell-552b4c4e1eaa9b2f",
     "locked": true,
     "schema_version": 1,
     "solution": false
    }
   },
   "source": [
    "Note: the full stops represent spaces, make sure your final answer does the same thing by replacing the spaces with full stops. There are multiple ways you can do this."
   ]
  },
  {
   "cell_type": "markdown",
   "metadata": {
    "colab_type": "text",
    "deletable": false,
    "editable": false,
    "id": "25aqInH95TUx",
    "nbgrader": {
     "checksum": "49fe19b16c6ebcd7b5fb78cade296d79",
     "grade": false,
     "grade_id": "cell-d5517e738fee41da",
     "locked": true,
     "schema_version": 1,
     "solution": false
    }
   },
   "source": [
    "### Task:"
   ]
  },
  {
   "cell_type": "markdown",
   "metadata": {
    "colab_type": "text",
    "deletable": false,
    "editable": false,
    "id": "9y4raym-5Y4B",
    "nbgrader": {
     "checksum": "d0bb5669dd12d1ae9bc7740fe5288eb9",
     "grade": false,
     "grade_id": "cell-194f7cba5c52fb18",
     "locked": true,
     "schema_version": 1,
     "solution": false
    }
   },
   "source": [
    "Write a function to take a message as a string and encode it using the method explained above."
   ]
  },
  {
   "cell_type": "code",
   "execution_count": 22,
   "metadata": {
    "colab": {
     "autoexec": {
      "startup": false,
      "wait_interval": 0
     }
    },
    "colab_type": "code",
    "deletable": false,
    "id": "sjJThuMsy-pv",
    "nbgrader": {
     "checksum": "2f4e101bc2e656ca9e77bc5effa049b1",
     "grade": false,
     "grade_id": "cell-566fe91284f3840a",
     "locked": false,
     "schema_version": 1,
     "solution": true
    }
   },
   "outputs": [],
   "source": [
    "### START FUNCTION 5\n",
    "\n",
    "def coded_message(message):\n",
    "    codedMessage = ''\n",
    "    \n",
    "    \n",
    "    # YOUR CODE HERE\n",
    "    #raise NotImplementedError()\n",
    "\n",
    "    #return code\n",
    "\n",
    "### END FUNCTION 5"
   ]
  },
  {
   "cell_type": "code",
   "execution_count": 23,
   "metadata": {
    "colab": {
     "autoexec": {
      "startup": false,
      "wait_interval": 0
     },
     "base_uri": "https://localhost:8080/",
     "height": 34
    },
    "colab_type": "code",
    "deletable": false,
    "editable": false,
    "executionInfo": {
     "elapsed": 953,
     "status": "ok",
     "timestamp": 1524213488273,
     "user": {
      "displayName": "Jordan Alan Haskel",
      "photoUrl": "https://lh3.googleusercontent.com/a/default-user=s128",
      "userId": "107965033734524396897"
     },
     "user_tz": -120
    },
    "id": "ZrZ3Qh4m0cHe",
    "nbgrader": {
     "checksum": "609fa5fbb3ac8afa07023db9e1a1b358",
     "grade": false,
     "grade_id": "cell-4e4891f08becac0c",
     "locked": true,
     "schema_version": 1,
     "solution": false
    },
    "outputId": "8b389508-a2ab-4859-a094-e44973b00a5e"
   },
   "outputs": [],
   "source": [
    "coded_message('THIS IS A CODED MESSAGE')"
   ]
  },
  {
   "cell_type": "markdown",
   "metadata": {
    "deletable": false,
    "editable": false,
    "nbgrader": {
     "checksum": "c618e20172f45dcabff93586ce88509d",
     "grade": false,
     "grade_id": "cell-2851ee1efb174fa1",
     "locked": true,
     "schema_version": 1,
     "solution": false
    }
   },
   "source": [
    "'TIC.AHSOMGI.DEESAES...DS.'"
   ]
  },
  {
   "cell_type": "code",
   "execution_count": 24,
   "metadata": {
    "colab": {
     "autoexec": {
      "startup": false,
      "wait_interval": 0
     }
    },
    "colab_type": "code",
    "deletable": false,
    "editable": false,
    "id": "I62IpOnuFGMs",
    "nbgrader": {
     "checksum": "9918bfcfa7da56c2785917f55a94e621",
     "grade": true,
     "grade_id": "cell-47ec8e85d1f519cf",
     "locked": true,
     "points": 3,
     "schema_version": 1,
     "solution": false
    }
   },
   "outputs": [],
   "source": [
    "coded_message('WELL DONE THIS IS CORRECT') "
   ]
  },
  {
   "cell_type": "markdown",
   "metadata": {
    "deletable": false,
    "editable": false,
    "nbgrader": {
     "checksum": "6d90dbcc88ff474a132e6bede92450ba",
     "grade": false,
     "grade_id": "cell-51b65fc58ceadad9",
     "locked": true,
     "schema_version": 1,
     "solution": false
    }
   },
   "source": [
    "'WDTIREOHSRLNI.ELESCC...OT'"
   ]
  }
 ],
 "metadata": {
  "colab": {
   "collapsed_sections": [],
   "default_view": {},
   "name": "Untitled1.ipynb",
   "provenance": [],
   "version": "0.3.2",
   "views": {}
  },
  "kernelspec": {
   "display_name": "Python 3",
   "language": "python",
   "name": "python3"
  },
  "language_info": {
   "codemirror_mode": {
    "name": "ipython",
    "version": 3
   },
   "file_extension": ".py",
   "mimetype": "text/x-python",
   "name": "python",
   "nbconvert_exporter": "python",
   "pygments_lexer": "ipython3",
   "version": "3.6.4"
  }
 },
 "nbformat": 4,
 "nbformat_minor": 1
}
